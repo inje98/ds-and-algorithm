{
 "cells": [
  {
   "cell_type": "code",
   "execution_count": null,
   "metadata": {},
   "outputs": [],
   "source": [
    "# file : sd06_simpleLinkedList.ipynb\n",
    "# desc : 단순 연결 리스트 학습"
   ]
  },
  {
   "cell_type": "code",
   "execution_count": 24,
   "metadata": {},
   "outputs": [],
   "source": [
    "# 연결리스트 노드 클래스\n",
    "class Node():\n",
    "    # data, link 두개의 멤버변수만 존재\n",
    "    def __init__(self, name) -> None: # 생성자 추가\n",
    "        self.data = name\n",
    "        self.link = None"
   ]
  },
  {
   "cell_type": "code",
   "execution_count": 6,
   "metadata": {},
   "outputs": [
    {
     "name": "stdout",
     "output_type": "stream",
     "text": [
      "다현 None\n"
     ]
    }
   ],
   "source": [
    "node1 = Node('다현')\n",
    "print(node1.data, end=' ')\n",
    "print(node1.link)"
   ]
  },
  {
   "cell_type": "code",
   "execution_count": 9,
   "metadata": {},
   "outputs": [
    {
     "name": "stdout",
     "output_type": "stream",
     "text": [
      "None\n"
     ]
    }
   ],
   "source": [
    "print(node1.link)"
   ]
  },
  {
   "cell_type": "code",
   "execution_count": 7,
   "metadata": {},
   "outputs": [
    {
     "name": "stdout",
     "output_type": "stream",
     "text": [
      "정연 None\n"
     ]
    }
   ],
   "source": [
    "node2 = Node('정연')\n",
    "node1.link = node2\n",
    "print(node1.data, end=' ')\n",
    "print(node1.link)"
   ]
  },
  {
   "cell_type": "code",
   "execution_count": 27,
   "metadata": {},
   "outputs": [
    {
     "name": "stdout",
     "output_type": "stream",
     "text": [
      "<__main__.Node object at 0x000001C719314A50>\n",
      "<__main__.Node object at 0x000001C719314A50>\n",
      "<__main__.Node object at 0x000001C7192F2E10>\n"
     ]
    }
   ],
   "source": [
    "## 5개 노드 연결리스트\n",
    "node1 = Node('다현')\n",
    "print(node1)\n",
    "\n",
    "node2 = Node('정연')\n",
    "node1.link = node2\n",
    "print(node1)\n",
    "print(node1.link)\n",
    "\n",
    "node3 = Node('쯔위')\n",
    "node2.link = node3\n",
    "\n",
    "node4 = Node('사나')\n",
    "node3.link = node4\n",
    "\n",
    "node5 = Node('지효')\n",
    "node4.link = node5"
   ]
  },
  {
   "cell_type": "code",
   "execution_count": 18,
   "metadata": {},
   "outputs": [
    {
     "name": "stdout",
     "output_type": "stream",
     "text": [
      "다현 -> 정연 -> 쯔위 -> 사나 -> 지효 : "
     ]
    }
   ],
   "source": [
    "print(node1.data, end=' -> ')\n",
    "print(node1.link.data, end=' -> ')\n",
    "print(node1.link.link.data, end=' -> ')\n",
    "print(node1.link.link.link.data, end=' -> ')\n",
    "print(node1.link.link.link.link.data, end=' : ')"
   ]
  },
  {
   "cell_type": "code",
   "execution_count": 29,
   "metadata": {},
   "outputs": [
    {
     "name": "stdout",
     "output_type": "stream",
     "text": [
      "다현 -> 정연 -> 쯔위 -> 사나 -> 지효 -> "
     ]
    }
   ],
   "source": [
    "## 연결리스트 출력방법\n",
    "current = node1\n",
    "print(current.data, end = ' -> ')\n",
    "while current.link != None:\n",
    "    current = current.link\n",
    "    print(current.data, end= ' -> ')"
   ]
  },
  {
   "cell_type": "code",
   "execution_count": 30,
   "metadata": {},
   "outputs": [],
   "source": [
    "## 새노드 삽입\n",
    "\n",
    "newNode = Node('모모')\n",
    "newNode.link = node2.link\n",
    "node2.link = newNode"
   ]
  },
  {
   "cell_type": "code",
   "execution_count": 31,
   "metadata": {},
   "outputs": [
    {
     "name": "stdout",
     "output_type": "stream",
     "text": [
      "다현 -> 정연 -> 모모 -> 쯔위 -> 사나 -> 지효 -> "
     ]
    }
   ],
   "source": [
    "current = node1\n",
    "print(current.data, end = ' -> ')\n",
    "while current.link != None:\n",
    "    current = current.link\n",
    "    print(current.data, end= ' -> ')"
   ]
  },
  {
   "cell_type": "code",
   "execution_count": 32,
   "metadata": {},
   "outputs": [],
   "source": [
    "## 기존노드 삭제(쯔위)\n",
    "newNode.link = node3.link"
   ]
  },
  {
   "cell_type": "code",
   "execution_count": 33,
   "metadata": {},
   "outputs": [
    {
     "name": "stdout",
     "output_type": "stream",
     "text": [
      "다현 -> 정연 -> 모모 -> 사나 -> 지효 -> "
     ]
    }
   ],
   "source": [
    "current = node1\n",
    "print(current.data, end = ' -> ')\n",
    "while current.link != None:\n",
    "    current = current.link\n",
    "    print(current.data, end= ' -> ')"
   ]
  },
  {
   "cell_type": "code",
   "execution_count": null,
   "metadata": {},
   "outputs": [],
   "source": [
    "## 완벽한 삭제를 위해서 node3을 없애줌\n",
    "del(node3)"
   ]
  },
  {
   "cell_type": "markdown",
   "metadata": {},
   "source": [
    "### 선형리스트와 연결리스트 비교\n",
    "- 선형리스트는 메모리 저장 장소의 최적화는 있지만, 삽입이나 삭제시 처리시간에 대한 오버헤드는 존재(꽤 많이)\n",
    "- 연결리스트는 메모리 공간 오버해드는 존재(current, node.link 등), 삽입/삭제 처리시간은 최적화\n",
    "- 그래서 현대의 IT에서는 거의 선형리스트를 사용하지 않음"
   ]
  }
 ],
 "metadata": {
  "kernelspec": {
   "display_name": "Python 3",
   "language": "python",
   "name": "python3"
  },
  "language_info": {
   "codemirror_mode": {
    "name": "ipython",
    "version": 3
   },
   "file_extension": ".py",
   "mimetype": "text/x-python",
   "name": "python",
   "nbconvert_exporter": "python",
   "pygments_lexer": "ipython3",
   "version": "3.11.5"
  }
 },
 "nbformat": 4,
 "nbformat_minor": 2
}
