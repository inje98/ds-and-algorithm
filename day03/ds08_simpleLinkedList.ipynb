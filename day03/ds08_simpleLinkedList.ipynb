{
 "cells": [
  {
   "cell_type": "code",
   "execution_count": 102,
   "metadata": {},
   "outputs": [],
   "source": [
    "# date : 20240214\n",
    "# file : ds08_simpleLinkedList.ipynb\n",
    "# desc : 연결리스트 학습 다시"
   ]
  },
  {
   "cell_type": "markdown",
   "metadata": {},
   "source": [
    "## 자료구조/알고리즘\n",
    "\n",
    "- 연결리스트 중 단순연결리스트 다시 학습\n",
    "\n",
    "### 단순연결리스트\n",
    "1. 클래스 생성\n",
    "    - 클래스 구조\n",
    "\n",
    "|data|node|\n",
    "|----|----|"
   ]
  },
  {
   "cell_type": "code",
   "execution_count": 103,
   "metadata": {},
   "outputs": [],
   "source": [
    "# 노드 클래스\n",
    "class Node():\n",
    "    data = None # 실제 데이터 변수\n",
    "    link = None # 다음 노드를 지정하는 변수\n",
    "\n",
    "    def __init__(self) -> None:\n",
    "        self.data = None # 클래스 자신이 self이므로 클래스의 변수에 접근하려면 반드시 self.써야됨\n",
    "        self.link = None"
   ]
  },
  {
   "cell_type": "markdown",
   "metadata": {},
   "source": [
    "2. 변수선언"
   ]
  },
  {
   "cell_type": "code",
   "execution_count": 104,
   "metadata": {},
   "outputs": [],
   "source": [
    "memory = []\n",
    "head = None # 연결리스트 제일 첫 노드를 알려주는 변수, 노드의 객체가 할당될 것\n",
    "prev = None # 현재 처리중인 노드 바로 앞 노드를 지정 변수\n",
    "curr = None # 현재 처리중인 노드를 지정 변수"
   ]
  },
  {
   "cell_type": "code",
   "execution_count": 105,
   "metadata": {},
   "outputs": [],
   "source": [
    "# 연결 데이터 순서 : 다현 정연 쯔위 사나 지효\n",
    "# 추가 데이터 : 재남, 화사, 솔라, 문별\n",
    "# 삭제 데이터 : 다현, 쯔위"
   ]
  },
  {
   "cell_type": "code",
   "execution_count": 106,
   "metadata": {},
   "outputs": [],
   "source": [
    "node = Node() # Node 객체 생성\n",
    "node.data = '다현'\n",
    "head = node # 변수 node를 변수 head에 할당. head는 첫번째 노드 다현을 가리킨다"
   ]
  },
  {
   "cell_type": "code",
   "execution_count": 107,
   "metadata": {},
   "outputs": [],
   "source": [
    "prev = node # 현재 Node 객체를 prev변수 지정. prev가 현재 node객체를 가리킨다\n",
    "node = Node() # '다현'을 들고 있는 node는 이미 head, prev에다 지정했기 때문에 다시 정연을 담을 새 node로 생성\n",
    "node.data = '정연'\n",
    "prev.link = node # 다현을 들고 있는 prev(==node 객체와 동일)에 다음 node가 정연인것을 지정"
   ]
  },
  {
   "cell_type": "code",
   "execution_count": 108,
   "metadata": {},
   "outputs": [],
   "source": [
    "prev = node # 현재 Node 객체를 prev변수 지정. prev가 현재 node객체를 가리킨다\n",
    "node = Node() # '정연'을 들고 있는 node는 이미 head, prev에다 지정했기 때문에 다시 쯔위을 담을 새 node로 생성\n",
    "node.data = '쯔위'\n",
    "prev.link = node # 정연을 들고 있는 prev(==node 객체와 동일)에 다음 node가 쯔위인것을 지정"
   ]
  },
  {
   "cell_type": "markdown",
   "metadata": {},
   "source": [
    "3. 연결리스트 출력할 함수"
   ]
  },
  {
   "cell_type": "code",
   "execution_count": 109,
   "metadata": {},
   "outputs": [],
   "source": [
    "def printNodes(start): # start부터 시작해서 끝까지 노드.data 출력\n",
    "    curr = start\n",
    "    if curr == None: return # break, continue는 반복문에만 가능\n",
    "    while True:\n",
    "        if curr.link == None:  # 연결할 노드가 더이상 없으면\n",
    "            print(curr.data) # 자기 데이터만 출력하고\n",
    "            break # 탈출\n",
    "        else:\n",
    "            print(curr.data, end=' -> ') # 연결할 노드가 있으니까 -> 해주고\n",
    "            curr = curr.link # 자기 뒤의 데이터를 curr로 바꿔줌\n",
    "    print()"
   ]
  },
  {
   "cell_type": "code",
   "execution_count": 110,
   "metadata": {},
   "outputs": [
    {
     "name": "stdout",
     "output_type": "stream",
     "text": [
      "다현 -> 정연 -> 쯔위\n",
      "\n"
     ]
    }
   ],
   "source": [
    "printNodes(head)"
   ]
  },
  {
   "cell_type": "markdown",
   "metadata": {},
   "source": [
    "4. 연결리스트 맨 앞에 노드 삽입"
   ]
  },
  {
   "cell_type": "code",
   "execution_count": 111,
   "metadata": {},
   "outputs": [
    {
     "name": "stdout",
     "output_type": "stream",
     "text": [
      "다현 -> 정연 -> 쯔위\n",
      "\n"
     ]
    }
   ],
   "source": [
    "printNodes(head)"
   ]
  },
  {
   "cell_type": "code",
   "execution_count": 112,
   "metadata": {},
   "outputs": [],
   "source": [
    "prev = node \n",
    "node = Node()\n",
    "node.data = '사나'\n",
    "prev.link = node "
   ]
  },
  {
   "cell_type": "code",
   "execution_count": 113,
   "metadata": {},
   "outputs": [],
   "source": [
    "prev = node \n",
    "node = Node() \n",
    "node.data = '지효'\n",
    "prev.link = node "
   ]
  },
  {
   "cell_type": "code",
   "execution_count": 114,
   "metadata": {},
   "outputs": [
    {
     "name": "stdout",
     "output_type": "stream",
     "text": [
      "다현 -> 정연 -> 쯔위 -> 사나 -> 지효\n",
      "\n"
     ]
    }
   ],
   "source": [
    "printNodes(head)"
   ]
  },
  {
   "cell_type": "code",
   "execution_count": 115,
   "metadata": {},
   "outputs": [],
   "source": [
    "node = Node()\n",
    "node.data = '화사'\n",
    "node.link = head\n",
    "head = node"
   ]
  },
  {
   "cell_type": "code",
   "execution_count": 116,
   "metadata": {},
   "outputs": [
    {
     "name": "stdout",
     "output_type": "stream",
     "text": [
      "화사 -> 다현 -> 정연 -> 쯔위 -> 사나 -> 지효\n",
      "\n"
     ]
    }
   ],
   "source": [
    "printNodes(head)"
   ]
  },
  {
   "cell_type": "markdown",
   "metadata": {},
   "source": [
    "5. 연결리스트 중간에 새 노드 삽입"
   ]
  },
  {
   "cell_type": "code",
   "execution_count": 117,
   "metadata": {},
   "outputs": [],
   "source": [
    "curr = head # curr가 제일 처음으로 이동\n",
    "\n",
    "while curr.link != None:\n",
    "    prev = curr # prev의 curr가 같은 노드를 가리킴\n",
    "    curr = curr.link # curr가 가리키는 다음 값을 curr로 지정(prev는 앞에있고 curr가 뒤로 한칸 넘어감)\n",
    "\n",
    "    if curr.data == '사나':\n",
    "        node = Node()\n",
    "        node.data = '솔라'\n",
    "        node.link = curr # '사나' node 앞에다 '솔라' node를 연결\n",
    "        prev.link = node # '솔라' node가 prev.link에 연결\n",
    "        "
   ]
  },
  {
   "cell_type": "code",
   "execution_count": 118,
   "metadata": {},
   "outputs": [
    {
     "name": "stdout",
     "output_type": "stream",
     "text": [
      "화사 -> 다현 -> 정연 -> 쯔위 -> 솔라 -> 사나 -> 지효\n",
      "\n"
     ]
    }
   ],
   "source": [
    "printNodes(head)"
   ]
  },
  {
   "cell_type": "markdown",
   "metadata": {},
   "source": [
    "6. 연결리스트 마지막에 새 노드 삽입"
   ]
  },
  {
   "cell_type": "code",
   "execution_count": 119,
   "metadata": {},
   "outputs": [],
   "source": [
    "node = Node()\n",
    "node.data = '문별'\n",
    "curr.link = node"
   ]
  },
  {
   "cell_type": "code",
   "execution_count": 120,
   "metadata": {},
   "outputs": [
    {
     "name": "stdout",
     "output_type": "stream",
     "text": [
      "화사 -> 다현 -> 정연 -> 쯔위 -> 솔라 -> 사나 -> 지효 -> 문별\n",
      "\n"
     ]
    }
   ],
   "source": [
    "printNodes(head)"
   ]
  },
  {
   "cell_type": "markdown",
   "metadata": {},
   "source": [
    "#### 정리\n",
    "- 맨앞, 중간에 삽입한 것 : 파이썬 list.insert(index, data) 동일\n",
    "- 맨뒤 삽입한 것 : 파이썬 list.append(data) 동일"
   ]
  },
  {
   "cell_type": "markdown",
   "metadata": {},
   "source": [
    "7. 첫번째 노드 삭제"
   ]
  },
  {
   "cell_type": "code",
   "execution_count": 121,
   "metadata": {},
   "outputs": [],
   "source": [
    "curr = head\n",
    "head = head.link"
   ]
  },
  {
   "cell_type": "code",
   "execution_count": 122,
   "metadata": {},
   "outputs": [],
   "source": [
    "del(curr)"
   ]
  },
  {
   "cell_type": "code",
   "execution_count": 123,
   "metadata": {},
   "outputs": [
    {
     "name": "stdout",
     "output_type": "stream",
     "text": [
      "다현 -> 정연 -> 쯔위 -> 솔라 -> 사나 -> 지효 -> 문별\n",
      "\n"
     ]
    }
   ],
   "source": [
    "printNodes(head)"
   ]
  },
  {
   "cell_type": "markdown",
   "metadata": {},
   "source": [
    "8. 첫번째 외 노드 삭제"
   ]
  },
  {
   "cell_type": "code",
   "execution_count": 125,
   "metadata": {},
   "outputs": [],
   "source": [
    "curr = head\n",
    "\n",
    "while curr.link != None:\n",
    "    prev = curr\n",
    "    curr = curr.link\n",
    "\n",
    "    if curr.data == '쯔위':\n",
    "        prev.link = curr.link\n",
    "        # curr.link = None # 굳이 필요없긴하다 지울거니까\n",
    "        del(curr)"
   ]
  },
  {
   "cell_type": "code",
   "execution_count": 127,
   "metadata": {},
   "outputs": [
    {
     "name": "stdout",
     "output_type": "stream",
     "text": [
      "다현 -> 정연 -> 솔라 -> 사나 -> 지효 -> 문별\n",
      "\n"
     ]
    }
   ],
   "source": [
    "printNodes(head)"
   ]
  },
  {
   "cell_type": "code",
   "execution_count": 129,
   "metadata": {},
   "outputs": [],
   "source": [
    "curr = head\n",
    "\n",
    "while curr.link != None:\n",
    "    prev = curr\n",
    "    curr = curr.link\n",
    "\n",
    "    if curr.data == '문별':\n",
    "        prev.link = curr.link\n",
    "        # curr.link = None # 굳이 필요없긴하다 지울거니까\n",
    "        del(curr)"
   ]
  },
  {
   "cell_type": "code",
   "execution_count": 130,
   "metadata": {},
   "outputs": [
    {
     "name": "stdout",
     "output_type": "stream",
     "text": [
      "다현 -> 정연 -> 솔라 -> 사나 -> 지효\n",
      "\n"
     ]
    }
   ],
   "source": [
    "printNodes(head)"
   ]
  },
  {
   "cell_type": "markdown",
   "metadata": {},
   "source": [
    "9. 노드 검색"
   ]
  },
  {
   "cell_type": "code",
   "execution_count": 132,
   "metadata": {},
   "outputs": [
    {
     "name": "stdout",
     "output_type": "stream",
     "text": [
      "정연\n"
     ]
    }
   ],
   "source": [
    "find = '정연'\n",
    "\n",
    "curr = head # curr 사용되는 변수라서 이 작업을 항상 해줘야 함\n",
    "if curr.data == find:\n",
    "    print(curr.data)\n",
    "\n",
    "while curr.link != None:\n",
    "    curr = curr.link\n",
    "    if curr.data == find:\n",
    "        print(curr.data)"
   ]
  },
  {
   "cell_type": "markdown",
   "metadata": {},
   "source": [
    "#### 정리\n",
    "- 노드검색은 파이썬 리스트, list.index(), list.count() 이거랑 유사"
   ]
  }
 ],
 "metadata": {
  "kernelspec": {
   "display_name": "Python 3",
   "language": "python",
   "name": "python3"
  },
  "language_info": {
   "codemirror_mode": {
    "name": "ipython",
    "version": 3
   },
   "file_extension": ".py",
   "mimetype": "text/x-python",
   "name": "python",
   "nbconvert_exporter": "python",
   "pygments_lexer": "ipython3",
   "version": "3.11.5"
  }
 },
 "nbformat": 4,
 "nbformat_minor": 2
}
