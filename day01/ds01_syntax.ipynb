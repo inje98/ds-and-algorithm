{
 "cells": [
  {
   "cell_type": "code",
   "execution_count": null,
   "metadata": {},
   "outputs": [],
   "source": [
    "# date : 20240208\n",
    "# file : ds01_syntax.ipynb\n",
    "# desc : 파이썬 기본문법 복습"
   ]
  },
  {
   "cell_type": "markdown",
   "metadata": {},
   "source": [
    "## 자료구조와 알고리즘\n",
    "\n",
    "- 파이썬 기본문법 복습\n",
    "\n",
    "### 1. 콘솔출력\n",
    "print()"
   ]
  },
  {
   "cell_type": "code",
   "execution_count": 6,
   "metadata": {},
   "outputs": [
    {
     "name": "stdout",
     "output_type": "stream",
     "text": [
      "<class 'bool'>\n"
     ]
    }
   ],
   "source": [
    "# 코딩 네이밍룰(Naming Rule)\n",
    "# 변수앞 i 적으면 정수형, f를 적으면 실수형, s를 적으면 문자열형, is를 쓰면 Boolean형\n",
    "isBasic = True\n",
    "iMonth = 12\n",
    "sMonth = 'December'\n",
    "fTaxRate = 10.2\n",
    "\n",
    "isBasic, iMonth, sMonth, fTaxRate = False, 1, 'january', 8.8"
   ]
  },
  {
   "cell_type": "code",
   "execution_count": 11,
   "metadata": {},
   "outputs": [
    {
     "name": "stdout",
     "output_type": "stream",
     "text": [
      "<class 'bool'> <class 'int'> <class 'str'> <class 'float'>\n"
     ]
    }
   ],
   "source": [
    "# 각 변수별 타입확인, 주피터 노트북에서는 변수나 함수만 써서 화면출력 가능\n",
    "# print()\n",
    "print(type(isBasic), type(iMonth), type(sMonth), type(fTaxRate))"
   ]
  },
  {
   "cell_type": "code",
   "execution_count": 14,
   "metadata": {},
   "outputs": [
    {
     "name": "stdout",
     "output_type": "stream",
     "text": [
      "100\n",
      "200\n"
     ]
    }
   ],
   "source": [
    "# 구식방법\n",
    "# 100출력 방법 100, '100', '%d' % 100\n",
    "print('%d' % 100)\n",
    "print('%d' % (100 + 100))"
   ]
  },
  {
   "cell_type": "code",
   "execution_count": 22,
   "metadata": {},
   "outputs": [
    {
     "ename": "TypeError",
     "evalue": "not enough arguments for format string",
     "output_type": "error",
     "traceback": [
      "\u001b[1;31m---------------------------------------------------------------------------\u001b[0m",
      "\u001b[1;31mTypeError\u001b[0m                                 Traceback (most recent call last)",
      "Cell \u001b[1;32mIn[22], line 2\u001b[0m\n\u001b[0;32m      1\u001b[0m \u001b[38;5;66;03m# 구식방법, 잘못된 예 : %d의 개수와 % 뒤의 값 개수가 일치해야 함\u001b[39;00m\n\u001b[1;32m----> 2\u001b[0m \u001b[38;5;28mprint\u001b[39m(\u001b[38;5;124;43m'\u001b[39;49m\u001b[38;5;132;43;01m%d\u001b[39;49;00m\u001b[38;5;124;43m \u001b[39;49m\u001b[38;5;132;43;01m%d\u001b[39;49;00m\u001b[38;5;124;43m'\u001b[39;49m\u001b[43m \u001b[49m\u001b[38;5;241;43m%\u001b[39;49m\u001b[43m \u001b[49m\u001b[43m(\u001b[49m\u001b[38;5;241;43m108\u001b[39;49m\u001b[43m)\u001b[49m)\n",
      "\u001b[1;31mTypeError\u001b[0m: not enough arguments for format string"
     ]
    }
   ],
   "source": [
    "# 구식방법, 잘못된 예 : %d의 개수와 % 뒤의 값 개수가 일치해야 함\n",
    "print('%d %d' % (108))"
   ]
  },
  {
   "cell_type": "code",
   "execution_count": 24,
   "metadata": {},
   "outputs": [
    {
     "name": "stdout",
     "output_type": "stream",
     "text": [
      "1\n"
     ]
    }
   ],
   "source": [
    "print('%d' % (iMonth))"
   ]
  },
  {
   "cell_type": "code",
   "execution_count": 26,
   "metadata": {},
   "outputs": [
    {
     "name": "stdout",
     "output_type": "stream",
     "text": [
      "1 / january / 8.80 / H / ff / 45\n"
     ]
    }
   ],
   "source": [
    "# %문자열 포맷에는 2진수가 없음(C언어부터 넘어온것)\n",
    "print('%d / %s / %.2f / %c / %x / %o' %(iMonth, sMonth, fTaxRate, 'H', 255, 37))"
   ]
  },
  {
   "cell_type": "code",
   "execution_count": 54,
   "metadata": {},
   "outputs": [
    {
     "name": "stdout",
     "output_type": "stream",
     "text": [
      "01 / january / 8.8 / H / ff / 45 / 10111\n"
     ]
    }
   ],
   "source": [
    "## 신식방법 포맷스트링\n",
    "print('{0:02d} / {1} / {2} / {3} / {4:x} / {5:o} / {6:b}'.format(iMonth, sMonth, fTaxRate, 'H', 255, 37, 23))"
   ]
  },
  {
   "cell_type": "code",
   "execution_count": 44,
   "metadata": {},
   "outputs": [
    {
     "name": "stdout",
     "output_type": "stream",
     "text": [
      "01 / january / 8.80 / H / FF / 71 / 1111111111\n"
     ]
    }
   ],
   "source": [
    "## 최식식 포맷스트링(python3.6이후 개발)\n",
    "print(f'{iMonth:02d} / {sMonth} / {fTaxRate:.2f} / {\"H\"} / {255:X} / {57:o} / {1023:b}') "
   ]
  },
  {
   "cell_type": "markdown",
   "metadata": {},
   "source": [
    "### 2. 입력\n",
    "- input()"
   ]
  },
  {
   "cell_type": "code",
   "execution_count": 48,
   "metadata": {},
   "outputs": [
    {
     "name": "stdout",
     "output_type": "stream",
     "text": [
      "35\n"
     ]
    }
   ],
   "source": [
    "# 입력은 무조건 문자열(str)\n",
    "x = input()\n",
    "y = input()\n",
    "print(x + y)"
   ]
  },
  {
   "cell_type": "code",
   "execution_count": 51,
   "metadata": {},
   "outputs": [
    {
     "name": "stdout",
     "output_type": "stream",
     "text": [
      "8\n"
     ]
    }
   ],
   "source": [
    "x = int(input())\n",
    "y = int(input())\n",
    "print(x + y)"
   ]
  },
  {
   "cell_type": "code",
   "execution_count": 61,
   "metadata": {},
   "outputs": [
    {
     "name": "stdout",
     "output_type": "stream",
     "text": [
      "80149.07068333299\n"
     ]
    }
   ],
   "source": [
    "x = float(input())\n",
    "y = float(input())\n",
    "print(x * y)"
   ]
  },
  {
   "cell_type": "code",
   "execution_count": 62,
   "metadata": {},
   "outputs": [
    {
     "name": "stdout",
     "output_type": "stream",
     "text": [
      "12.00 * 312.00 = 3744.0000\n"
     ]
    }
   ],
   "source": [
    "# input()만 쓰면 뭘할지 모르기때문에 내용을 옵션으로 작성\n",
    "x = float(input('첫번째 실수 입력(예 3.14) > '))\n",
    "y = float(input('두번째 실수 입력(예 3.14) > '))\n",
    "print(f'{x:.2f} * {y:.2f} = {x * y:.4f}')\n"
   ]
  },
  {
   "cell_type": "code",
   "execution_count": 64,
   "metadata": {},
   "outputs": [
    {
     "name": "stdout",
     "output_type": "stream",
     "text": [
      "12.00 * 23.00 = 276.0000\n"
     ]
    }
   ],
   "source": [
    "## 입력값이 두개 이상이면 map과 split를 활용할 것\n",
    "x, y = map(float, input('두 실수를 입력(구분자 스페이스) > ').split())\n",
    "print(f'{x:.2f} * {y:.2f} = {x * y:.4f}')"
   ]
  },
  {
   "cell_type": "markdown",
   "metadata": {},
   "source": [
    "## 3. 연산자\n",
    "- 사칙연산, 승수, 나머지의 경우 연산자 3개"
   ]
  },
  {
   "cell_type": "code",
   "execution_count": 65,
   "metadata": {},
   "outputs": [
    {
     "name": "stdout",
     "output_type": "stream",
     "text": [
      "8 2 15 1.6666666666666667 1 2 125\n"
     ]
    }
   ],
   "source": [
    "## 산술연산\n",
    "a = 5; b = 3 # 여러줄 로직을 한줄에 사용시 세미콜론(;)으로 구분\n",
    "a, b = 5, 3\n",
    "print(a + b, a - b, a * b, a / b, a // b, a % b, a ** b)"
   ]
  },
  {
   "cell_type": "code",
   "execution_count": 72,
   "metadata": {},
   "outputs": [
    {
     "name": "stdout",
     "output_type": "stream",
     "text": [
      "8\n",
      "5\n",
      "15\n",
      "5.0\n",
      "1\n",
      "2\n",
      "1024\n"
     ]
    }
   ],
   "source": [
    "# 대입 연산자\n",
    "a = 5\n",
    "\n",
    "a += 3\n",
    "print(a) # 8\n",
    "a -= 3\n",
    "print(a) # 5\n",
    "a *= 3\n",
    "print(a) # 15\n",
    "a /= 3\n",
    "print(a) # 5.0 \n",
    "a = int(a)\n",
    "a //= 3\n",
    "print(a) # 1\n",
    "a = 5\n",
    "a %= 3\n",
    "print(a)\n",
    "a **= 10\n",
    "print(a)"
   ]
  },
  {
   "cell_type": "code",
   "execution_count": 73,
   "metadata": {},
   "outputs": [
    {
     "name": "stdout",
     "output_type": "stream",
     "text": [
      "True False True True False True\n",
      "True\n",
      "True\n"
     ]
    }
   ],
   "source": [
    "## 관계연산자\n",
    "a, b, c, d = 3, 5, 9, 5\n",
    "print(b == d, a > b, d < c, b >= d, c <= a, a != c)\n",
    "print(a < b and c > d)\n",
    "print(a > b or c > d)"
   ]
  },
  {
   "cell_type": "markdown",
   "metadata": {},
   "source": [
    "## 4. 형변환(Type casting)"
   ]
  },
  {
   "cell_type": "code",
   "execution_count": 79,
   "metadata": {},
   "outputs": [
    {
     "data": {
      "text/plain": [
       "'10'"
      ]
     },
     "execution_count": 79,
     "metadata": {},
     "output_type": "execute_result"
    }
   ],
   "source": [
    "str(10) # 정수 10을 문자열로 변환"
   ]
  },
  {
   "cell_type": "code",
   "execution_count": 80,
   "metadata": {},
   "outputs": [
    {
     "data": {
      "text/plain": [
       "'3.141592'"
      ]
     },
     "execution_count": 80,
     "metadata": {},
     "output_type": "execute_result"
    }
   ],
   "source": [
    "str(3.141592) # 실수를 문자열로 변환"
   ]
  },
  {
   "cell_type": "code",
   "execution_count": 94,
   "metadata": {},
   "outputs": [
    {
     "name": "stdout",
     "output_type": "stream",
     "text": [
      "3\n",
      "13\n",
      "3.0\n",
      "3.0\n"
     ]
    }
   ],
   "source": [
    "print(int(3.14)) # 나머지 날려버리네\n",
    "print(int('13')) # 이것도 되네\n",
    "# print(int('3.12')) # 실수도 문자열도 int로 캐스팅 가능하지만 실수문자열만큼은 불가능\n",
    "\n",
    "print(float('3'))\n",
    "print(float(3)) # int 캐스팅도 되는데 float가 못할거 없지"
   ]
  },
  {
   "cell_type": "code",
   "execution_count": 92,
   "metadata": {},
   "outputs": [
    {
     "data": {
      "text/plain": [
       "True"
      ]
     },
     "execution_count": 92,
     "metadata": {},
     "output_type": "execute_result"
    }
   ],
   "source": [
    "bool(1) # 1 이상은 True 0은 False"
   ]
  },
  {
   "cell_type": "markdown",
   "metadata": {},
   "source": [
    "## 5. 흐름제어\n",
    "- 조건문"
   ]
  },
  {
   "cell_type": "code",
   "execution_count": 96,
   "metadata": {},
   "outputs": [
    {
     "name": "stdout",
     "output_type": "stream",
     "text": [
      "이깁니다\n"
     ]
    }
   ],
   "source": [
    "# 단순 if문\n",
    "army = 300\n",
    "\n",
    "if army < 300:\n",
    "    print('싸우면 집니다')\n",
    "else:\n",
    "    print('이깁니다')"
   ]
  },
  {
   "cell_type": "code",
   "execution_count": 97,
   "metadata": {},
   "outputs": [
    {
     "name": "stdout",
     "output_type": "stream",
     "text": [
      "간당간당합니다.\n"
     ]
    }
   ],
   "source": [
    "# elif\n",
    "if army < 300:\n",
    "    print('싸우면 집니다.') # block 들여쓰기 부분이 한 블록, c에서의{}\n",
    "elif army == 300:\n",
    "    print('간당간당합니다.') # block\n",
    "else:\n",
    "    print('이깁니다') # block"
   ]
  },
  {
   "cell_type": "markdown",
   "metadata": {},
   "source": [
    "- for문"
   ]
  },
  {
   "cell_type": "code",
   "execution_count": 98,
   "metadata": {},
   "outputs": [
    {
     "name": "stdout",
     "output_type": "stream",
     "text": [
      "0, 1, 2, 3, 4, "
     ]
    }
   ],
   "source": [
    "## for문\n",
    "for i in range(5):\n",
    "    print(i, end=', ')"
   ]
  },
  {
   "cell_type": "code",
   "execution_count": 101,
   "metadata": {},
   "outputs": [
    {
     "name": "stdout",
     "output_type": "stream",
     "text": [
      "1, 2, 3, 4, 5, "
     ]
    }
   ],
   "source": [
    "for i in range(1, 6):\n",
    "    print(i, end=', ')"
   ]
  },
  {
   "cell_type": "code",
   "execution_count": 103,
   "metadata": {},
   "outputs": [
    {
     "name": "stdout",
     "output_type": "stream",
     "text": [
      "2, 4, 6, 8, 10, "
     ]
    }
   ],
   "source": [
    "for i in range(2, 11, 2):\n",
    "    print(i, end = ', ')"
   ]
  },
  {
   "cell_type": "markdown",
   "metadata": {},
   "source": [
    "- while문"
   ]
  },
  {
   "cell_type": "code",
   "execution_count": 108,
   "metadata": {},
   "outputs": [
    {
     "name": "stdout",
     "output_type": "stream",
     "text": [
      "aaaaaaaaaaaaaaaaaaaaaaaaaaaaaaaaaaaaaaaaaaaaaaaaaaaaaaaaaaaaaaaaaaaaaaaaaaaaaaaaaaaaaaaaaaaaaaaaaaaa"
     ]
    }
   ],
   "source": [
    "while True:\n",
    "    print('a', end='')\n",
    "   "
   ]
  },
  {
   "cell_type": "markdown",
   "metadata": {},
   "source": [
    "- continue : 반복문에서 조건이 맞으면 로직을 실행하지 않고 다음 반복으로 계속 반복\n",
    "- break : 반복문에서 조건이 맞으면 탈출"
   ]
  },
  {
   "cell_type": "code",
   "execution_count": 116,
   "metadata": {},
   "outputs": [
    {
     "name": "stdout",
     "output_type": "stream",
     "text": [
      "for문 1번 실행\n",
      "for문 3번 실행\n",
      "for문 5번 실행\n",
      "for문 7번 실행\n",
      "for문 9번 실행\n",
      "for문 11번 실행\n",
      "for문 13번 실행\n",
      "for문 15번 실행\n",
      "for문 17번 실행\n",
      "for문 19번 실행\n",
      "for문 21번 실행\n",
      "for문 23번 실행\n",
      "for문 25번 실행\n",
      "for문 27번 실행\n",
      "for문 29번 실행\n",
      "for문 31번 실행\n",
      "for문 33번 실행\n",
      "for문 35번 실행\n",
      "for문 37번 실행\n",
      "for문 39번 실행\n",
      "for문 41번 실행\n",
      "for문 43번 실행\n",
      "for문 45번 실행\n",
      "for문 47번 실행\n",
      "for문 49번 실행\n",
      "for문 51번 실행\n",
      "for문 53번 실행\n",
      "for문 55번 실행\n",
      "for문 57번 실행\n",
      "for문 59번 실행\n",
      "for문 61번 실행\n",
      "for문 63번 실행\n",
      "for문 65번 실행\n",
      "for문 67번 실행\n",
      "for문 69번 실행\n",
      "for문 71번 실행\n",
      "for문 73번 실행\n",
      "for문 75번 실행\n",
      "for문 77번 실행\n",
      "for문 79번 실행\n",
      "for문 81번 실행\n",
      "for문 83번 실행\n",
      "for문 85번 실행\n",
      "for문 87번 실행\n",
      "for문 89번 실행\n",
      "for문 91번 실행\n",
      "for문 93번 실행\n",
      "for문 95번 실행\n",
      "for문 97번 실행\n",
      "for문 99번 실행\n"
     ]
    }
   ],
   "source": [
    "for i in range(1, 101):\n",
    "    if (i % 10 == 0) or (i % 2 == 0): continue\n",
    "    print('for문 {0}번 실행'.format(i))"
   ]
  },
  {
   "cell_type": "markdown",
   "metadata": {},
   "source": [
    "### 6. 함수\n",
    "- 매개변수를 받아서 동일한 로직을 처리하는 영역"
   ]
  },
  {
   "cell_type": "code",
   "execution_count": 117,
   "metadata": {},
   "outputs": [],
   "source": [
    "def plus(v1, v2):\n",
    "    result = 0\n",
    "    result = v1 + v2\n",
    "    return result"
   ]
  },
  {
   "cell_type": "code",
   "execution_count": 120,
   "metadata": {},
   "outputs": [
    {
     "name": "stdout",
     "output_type": "stream",
     "text": [
      "200 + 100 = 300\n"
     ]
    }
   ],
   "source": [
    "hap = 0\n",
    "\n",
    "hap = plus(200, 100)\n",
    "print(f'200 + 100 = {hap}')"
   ]
  },
  {
   "cell_type": "markdown",
   "metadata": {},
   "source": [
    "#### 6-1. 지역변수/전역변수\n",
    "Local variable/ Global variable"
   ]
  },
  {
   "cell_type": "code",
   "execution_count": 123,
   "metadata": {},
   "outputs": [
    {
     "name": "stdout",
     "output_type": "stream",
     "text": [
      "500\n",
      "5.0\n",
      "110\n"
     ]
    }
   ],
   "source": [
    "gbl_val = 100 # 전역변수\n",
    "\n",
    "def func1():\n",
    "    lcl_val = 10 # 지역변수\n",
    "    print(gbl_val * 5)\n",
    "    print(lcl_val / 2)\n",
    "\n",
    "def func2():\n",
    "    print(gbl_val + 10)\n",
    "    # print(lcl_val / 3) # func1()에 있는 변수는 func2()에서 못쓴다\n",
    "    # 'lcl_val' is not defined\n",
    "    # lcl_val = 10 # 이러면 func1()에 있는 lcl_val이랑 이름은 같지만 다른 변수인거임!\n",
    "\n",
    "func1()\n",
    "func2()"
   ]
  },
  {
   "cell_type": "code",
   "execution_count": 125,
   "metadata": {},
   "outputs": [
    {
     "name": "stdout",
     "output_type": "stream",
     "text": [
      "20\n",
      "20\n"
     ]
    }
   ],
   "source": [
    "aa = 10\n",
    "\n",
    "def func3():\n",
    "    global aa  # 이렇게 쓰면 aa 지역이 아니라 글로벌임 \n",
    "    aa = 20\n",
    "    print(aa)\n",
    "\n",
    "def func4():\n",
    "    print(aa)\n",
    "\n",
    "func3()\n",
    "func4()\n",
    "\n",
    "## local일 경우 20, 10\n",
    "## global로 선언하면 20, 20"
   ]
  }
 ],
 "metadata": {
  "kernelspec": {
   "display_name": "Python 3",
   "language": "python",
   "name": "python3"
  },
  "language_info": {
   "codemirror_mode": {
    "name": "ipython",
    "version": 3
   },
   "file_extension": ".py",
   "mimetype": "text/x-python",
   "name": "python",
   "nbconvert_exporter": "python",
   "pygments_lexer": "ipython3",
   "version": "3.11.5"
  }
 },
 "nbformat": 4,
 "nbformat_minor": 2
}
