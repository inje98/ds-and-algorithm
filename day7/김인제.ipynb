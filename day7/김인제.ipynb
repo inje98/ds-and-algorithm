{
 "cells": [
  {
   "cell_type": "markdown",
   "metadata": {},
   "source": [
    "## 김인제"
   ]
  },
  {
   "cell_type": "markdown",
   "metadata": {},
   "source": [
    "#### 1번"
   ]
  },
  {
   "cell_type": "code",
   "execution_count": 41,
   "metadata": {},
   "outputs": [],
   "source": [
    "def isFullFull():\n",
    "    global SIZE, stack, top\n",
    "\n",
    "    if (top >= SIZE-1):\n",
    "        return True\n",
    "    else:\n",
    "        return False"
   ]
  },
  {
   "cell_type": "code",
   "execution_count": 42,
   "metadata": {},
   "outputs": [],
   "source": [
    "def isEmptyEmpty():\n",
    "    global SIZE, stack, top\n",
    "    if top <= -1:\n",
    "        return True\n",
    "    else:\n",
    "        return False"
   ]
  },
  {
   "cell_type": "code",
   "execution_count": 43,
   "metadata": {},
   "outputs": [],
   "source": [
    "def fush(data):\n",
    "    global SIZE, stack, top\n",
    "    if isFullFull() == True:\n",
    "        print('스택이 꽉 찼습니다.')\n",
    "        return\n",
    "    else:\n",
    "        top += 1\n",
    "        stack[top] = data"
   ]
  },
  {
   "cell_type": "code",
   "execution_count": 44,
   "metadata": {},
   "outputs": [],
   "source": [
    "def popop():\n",
    "    global SIZE, stack, top\n",
    "    if isEmptyEmpty() == True:\n",
    "        print('스택이 비었습니다.')\n",
    "        return None\n",
    "    else:\n",
    "        data = stack[top]\n",
    "        stack[top] = None\n",
    "        top -= 1\n",
    "        return data"
   ]
  },
  {
   "cell_type": "code",
   "execution_count": 45,
   "metadata": {},
   "outputs": [],
   "source": [
    "def peeky():\n",
    "    global stack, top\n",
    "    if isEmptyEmpty() == True:\n",
    "        print('스택이 비었습니다')\n",
    "    else:\n",
    "        return stack[top]"
   ]
  },
  {
   "cell_type": "code",
   "execution_count": 46,
   "metadata": {},
   "outputs": [],
   "source": [
    "SIZE = 5\n",
    "stack = [None for _ in range(SIZE)]\n",
    "top = -1"
   ]
  },
  {
   "cell_type": "code",
   "execution_count": 47,
   "metadata": {},
   "outputs": [
    {
     "name": "stdout",
     "output_type": "stream",
     "text": [
      "스택상태['콜라', None, None, None, None]\n",
      "스택상태['콜라', '사이다', None, None, None]\n",
      "스택상태['콜라', '사이다', '환타', None, None]\n",
      "스택상태['콜라', '사이다', '환타', '제로콜라', None]\n",
      "스택상태['콜라', '사이다', '환타', '제로콜라', '제로사이다']\n",
      "스택이 꽉 찼습니다.\n",
      "스택상태['콜라', '사이다', '환타', '제로콜라', '제로사이다']\n",
      "추출 데이터 : 제로사이다\n",
      "스택상태 : ['콜라', '사이다', '환타', '제로콜라', None]\n",
      "추출 데이터 : 제로콜라\n",
      "스택상태 : ['콜라', '사이다', '환타', None, None]\n",
      "추출 데이터 : 환타\n",
      "스택상태 : ['콜라', '사이다', '환타', None, None]\n",
      "추출 데이터 : 환타\n",
      "스택상태 : ['콜라', '사이다', None, None, None]\n",
      "추출 데이터 : 사이다\n",
      "스택상태 : ['콜라', None, None, None, None]\n",
      "추출 데이터 : 콜라\n",
      "스택상태 : [None, None, None, None, None]\n",
      "스택이 비었습니다.\n",
      "추출 데이터 : None\n",
      "스택상태 : [None, None, None, None, None]\n"
     ]
    }
   ],
   "source": [
    "if __name__ == '__main__':\n",
    "    \n",
    "    while True:\n",
    "        select = input('FUSH(p), POP(o), PEEK(e), Exit(x) > ')\n",
    "    \n",
    "        if select.lower() == 'p':\n",
    "            data = input('입력데이터 >> ')\n",
    "            fush(data)\n",
    "            print(f'스택상태{stack}')\n",
    "        elif select.lower() == 'o':\n",
    "            data = popop()\n",
    "            print(f'추출 데이터 : {data}')\n",
    "            print(f'스택상태 : {stack}')\n",
    "        elif select.lower() == 'e':\n",
    "            data = peeky()\n",
    "            print(f'추출 데이터 : {data}')\n",
    "            print(f'스택상태 : {stack}')\n",
    "        elif select.lower() == 'x':\n",
    "            break\n",
    "        else:\n",
    "            continue"
   ]
  },
  {
   "cell_type": "markdown",
   "metadata": {},
   "source": [
    "#### 2번"
   ]
  },
  {
   "cell_type": "code",
   "execution_count": 71,
   "metadata": {},
   "outputs": [],
   "source": [
    "def isQueueFull():\n",
    "    global SIZE, queue, front, rear\n",
    "    if rear != (SIZE-1):\n",
    "        return False\n",
    "    elif rear == (SIZE-1) and front == -1:\n",
    "        return True\n",
    "    else:\n",
    "        while front != -1:\n",
    "            for i in range(front+1, SIZE):\n",
    "                queue[i-1] = queue[i] \n",
    "                queue[i] = None\n",
    "            front -= 1\n",
    "            rear -= 1\n",
    "        return False"
   ]
  },
  {
   "cell_type": "code",
   "execution_count": 72,
   "metadata": {},
   "outputs": [],
   "source": [
    "def isQueueEmpty():\n",
    "    global front, rear\n",
    "    if front == rear:\n",
    "        return True\n",
    "    else:\n",
    "        return False"
   ]
  },
  {
   "cell_type": "code",
   "execution_count": 73,
   "metadata": {},
   "outputs": [],
   "source": [
    "def enQueue(data):\n",
    "    global queue, rear\n",
    "    if isQueueFull() == True:\n",
    "        print('큐가 꽉찼습니다')\n",
    "        return \n",
    "    else:\n",
    "        rear += 1\n",
    "        queue[rear] = data    "
   ]
  },
  {
   "cell_type": "code",
   "execution_count": 74,
   "metadata": {},
   "outputs": [],
   "source": [
    "def deQueue():\n",
    "    global queue, front\n",
    "    if isQueueEmpty() == True: \n",
    "        print('큐가 비었습니다')\n",
    "        return\n",
    "    else:\n",
    "        front += 1\n",
    "        data = queue[front]\n",
    "        queue[front] = None\n",
    "        return data"
   ]
  },
  {
   "cell_type": "code",
   "execution_count": 75,
   "metadata": {},
   "outputs": [],
   "source": [
    "def peek():\n",
    "    global queue, front\n",
    "    if isQueueEmpty() == True:\n",
    "        print('큐가 비었습니다')\n",
    "        return None\n",
    "    else:\n",
    "        return queue[front+1]"
   ]
  },
  {
   "cell_type": "code",
   "execution_count": 76,
   "metadata": {},
   "outputs": [],
   "source": [
    "SIZE = 5\n",
    "queue = [None for _ in range(SIZE)]\n",
    "front = rear = -1"
   ]
  },
  {
   "cell_type": "code",
   "execution_count": 77,
   "metadata": {},
   "outputs": [
    {
     "name": "stdout",
     "output_type": "stream",
     "text": [
      "대기줄 상태 : ['a', None, None, None, None]\n",
      "대기줄 상태 : ['a', 'b', None, None, None]\n",
      "대기줄 상태 : ['a', 'b', 'c', None, None]\n",
      "확인 데이터 > a\n",
      "대기줄 상태 : ['a', 'b', 'c', None, None]\n",
      "a님 식당에 들어감\n",
      "대기줄 상태 : [None, 'b', 'c', None, None]\n",
      "b님 식당에 들어감\n",
      "대기줄 상태 : [None, None, 'c', None, None]\n",
      "대기줄 상태 : [None, None, 'c', 'a', None]\n",
      "c님 식당에 들어감\n",
      "대기줄 상태 : [None, None, None, 'a', None]\n",
      "a님 식당에 들어감\n",
      "대기줄 상태 : [None, None, None, None, None]\n",
      "큐가 비었습니다\n",
      "대기줄 상태 : [None, None, None, None, None]\n"
     ]
    }
   ],
   "source": [
    "if __name__ == '__main__': \n",
    "    while True:\n",
    "        select = input('대기줄(e), 입장(d), 다음차례 확인(p), 종료(x) > ')\n",
    "\n",
    "        if select.lower() == 'e':\n",
    "            data = input('입력 데이터 > ')\n",
    "            enQueue(data)\n",
    "            print(f'대기줄 상태 : {queue}')\n",
    "        elif select.lower() == 'd':\n",
    "            data = deQueue()\n",
    "            if data == None:\n",
    "                print(f'대기줄 상태 : {queue}')\n",
    "            else:\n",
    "                print(f'{data}님 식당에 들어감')\n",
    "                print(f'대기줄 상태 : {queue}')\n",
    "        elif select.lower() == 'p':\n",
    "            data = peek()\n",
    "            print(f'확인 데이터 > {data}')\n",
    "            print(f'대기줄 상태 : {queue}')\n",
    "        elif select.lower() == 'x':\n",
    "            break \n",
    "        else:\n",
    "            continue"
   ]
  },
  {
   "cell_type": "markdown",
   "metadata": {},
   "source": [
    "#### 3번"
   ]
  },
  {
   "cell_type": "code",
   "execution_count": 1,
   "metadata": {},
   "outputs": [],
   "source": [
    "import random"
   ]
  },
  {
   "cell_type": "code",
   "execution_count": 2,
   "metadata": {},
   "outputs": [],
   "source": [
    "class TreeNode():\n",
    "    def __init__(self) -> None:\n",
    "        self.left = None\n",
    "        self.data = None\n",
    "        self.right = None"
   ]
  },
  {
   "cell_type": "code",
   "execution_count": 3,
   "metadata": {},
   "outputs": [],
   "source": [
    "memory = []\n",
    "root = None\n",
    "dataAry = ['바나나맛우유', '래쓰비캔커피', '츄파춥스', '도시락', '삼다수', '코카콜라', '삼각김밥']"
   ]
  },
  {
   "cell_type": "code",
   "execution_count": 4,
   "metadata": {},
   "outputs": [],
   "source": [
    "sellAry = [random.choice(dataAry) for _ in range(20)]"
   ]
  },
  {
   "cell_type": "code",
   "execution_count": 5,
   "metadata": {},
   "outputs": [],
   "source": [
    "node = TreeNode()\n",
    "node.data = sellAry[0]\n",
    "root = node\n",
    "memory.append(node)"
   ]
  },
  {
   "cell_type": "code",
   "execution_count": 6,
   "metadata": {},
   "outputs": [],
   "source": [
    "for name in sellAry[1:]:\n",
    "    node = TreeNode()\n",
    "    node.data = name\n",
    "\n",
    "    current = root\n",
    "    while True:\n",
    "        if name == current.data:\n",
    "            break\n",
    "        if name < current.data:\n",
    "            if current.left == None:\n",
    "                current.left = node\n",
    "                memory.append(node)\n",
    "                break\n",
    "            current = current.left\n",
    "        \n",
    "        else:\n",
    "            if current.right == None:\n",
    "                current.right = node\n",
    "                memory.append(node)\n",
    "                break\n",
    "            current = current.right"
   ]
  },
  {
   "cell_type": "code",
   "execution_count": 7,
   "metadata": {},
   "outputs": [],
   "source": [
    "def preorder(node):\n",
    "    if node == None:\n",
    "        return\n",
    "    print(node.data, end=' ')\n",
    "    preorder(node.left)\n",
    "    preorder(node.right)"
   ]
  },
  {
   "cell_type": "code",
   "execution_count": 8,
   "metadata": {},
   "outputs": [
    {
     "name": "stdout",
     "output_type": "stream",
     "text": [
      "전체 판매된 물건 목록(중복O) --> ['코카콜라', '바나나맛우유', '코카콜라', '바나나맛우유', '삼각김밥', '래쓰비캔커피', '도시락', '코카콜라', '도시락', '삼다수', '도시락', '래쓰비캔커피', '래쓰비캔커피', '바나나맛우유', '삼다수', '삼다수', '코카콜라', '래쓰비캔커피', '바나나맛우유', '코카콜라']\n",
      "오늘 판매된 종류(중복X) -->  코카콜라 바나나맛우유 래쓰비캔커피 도시락 삼각김밥 삼다수 \n"
     ]
    }
   ],
   "source": [
    "# 메인함수\n",
    "if __name__ == '__main__':\n",
    "    while True:\n",
    "        select = input('전체 판매된 물건 목록(중복O)(o), 판매된 종류(중복X)(x), 종료(r) > ')\n",
    "\n",
    "        if select.lower() == 'o':\n",
    "            print(f'전체 판매된 물건 목록(중복O) --> {sellAry}')\n",
    "        elif select.lower() == 'x':\n",
    "            print(f'오늘 판매된 종류(중복X) --> ', end=' ')\n",
    "            preorder(root)\n",
    "            print()\n",
    "        elif select.lower() == 'r':\n",
    "            break\n",
    "        else:\n",
    "            continue"
   ]
  },
  {
   "cell_type": "code",
   "execution_count": null,
   "metadata": {},
   "outputs": [],
   "source": []
  }
 ],
 "metadata": {
  "kernelspec": {
   "display_name": "Python 3",
   "language": "python",
   "name": "python3"
  },
  "language_info": {
   "codemirror_mode": {
    "name": "ipython",
    "version": 3
   },
   "file_extension": ".py",
   "mimetype": "text/x-python",
   "name": "python",
   "nbconvert_exporter": "python",
   "pygments_lexer": "ipython3",
   "version": "3.11.5"
  }
 },
 "nbformat": 4,
 "nbformat_minor": 2
}
